{
 "cells": [
  {
   "cell_type": "markdown",
   "metadata": {},
   "source": [
    "## Task 1: Introduction"
   ]
  },
  {
   "cell_type": "code",
   "execution_count": null,
   "metadata": {},
   "outputs": [],
   "source": [
    "%matplotlib inline\n",
    "%load_ext tensorboard\n",
    "\n",
    "import tensorflow as tf\n",
    "import numpy as np\n",
    "import matplotlib.pyplot as plt\n",
    "import shutil"
   ]
  },
  {
   "cell_type": "markdown",
   "metadata": {},
   "source": [
    "## Task 2: Create Dataset"
   ]
  },
  {
   "cell_type": "code",
   "execution_count": null,
   "metadata": {},
   "outputs": [],
   "source": [
    "(x_train, y_train), (x_test, y_test) = tf.keras.datasets.mnist.load_data()"
   ]
  },
  {
   "cell_type": "code",
   "execution_count": null,
   "metadata": {},
   "outputs": [],
   "source": [
    "colors = {\n",
    "    0: 'red',\n",
    "    1: 'green',\n",
    "}\n",
    "\n",
    "def create_example(x, y):\n",
    "    c = np.random.randint(0, 2)\n",
    "    image = 0.5 * np.random.rand(28, 28, 3)\n",
    "    image[:, :, c] += 0.5 * x / 255.\n",
    "    return image, y, c"
   ]
  },
  {
   "cell_type": "code",
   "execution_count": null,
   "metadata": {},
   "outputs": [],
   "source": [
    "index = np.random.randint(0, len(x_train))\n",
    "x, y, c = create_example(x_train[index], y_train[index])\n",
    "\n",
    "print(f'digit: {y}, color: {colors[c]}')\n",
    "\n",
    "plt.imshow(x)\n",
    "plt.show()"
   ]
  },
  {
   "cell_type": "markdown",
   "metadata": {},
   "source": [
    "## Task 3: Dataset Generator"
   ]
  },
  {
   "cell_type": "code",
   "execution_count": null,
   "metadata": {},
   "outputs": [],
   "source": [
    "def generate_data(x, y, batch_size=32):\n",
    "    num_examples = len(y)\n",
    "    \n",
    "    while True:\n",
    "        x_batch = np.zeros((batch_size, 28, 28, 3))\n",
    "        y_batch = np.zeros((batch_size, ))\n",
    "        c_batch = np.zeros((batch_size, ))\n",
    "\n",
    "        for i in range(0, batch_size):\n",
    "            index = np.random.randint(0, num_examples)\n",
    "            image, digit, color = create_example(x[index], y[index])\n",
    "            x_batch[i] = image\n",
    "            y_batch[i] = digit\n",
    "            c_batch[i] = color\n",
    "\n",
    "        yield x_batch, [y_batch, c_batch]"
   ]
  },
  {
   "cell_type": "markdown",
   "metadata": {},
   "source": [
    "## Task 4: Create Model"
   ]
  },
  {
   "cell_type": "code",
   "execution_count": null,
   "metadata": {},
   "outputs": [],
   "source": [
    "num_filters = 32\n",
    "\n",
    "input_ = tf.keras.layers.Input(shape=(28, 28, 3), name='input')\n",
    "\n",
    "conv_1 = tf.keras.layers.Conv2D(num_filters, 3, name='conv_1')(input_)\n",
    "act_1 = tf.keras.layers.Activation('relu', name='act_1')(conv_1)\n",
    "\n",
    "pool_1 = tf.keras.layers.MaxPool2D(4, name='pool_1')(act_1)\n",
    "flat_1 = tf.keras.layers.Flatten(name='flat_1')(pool_1)\n",
    "\n",
    "conv_2 = tf.keras.layers.Conv2D(num_filters, 3, padding='same', name='conv_2')(act_1)\n",
    "act_2 = tf.keras.layers.Activation('relu', name='act_2')(conv_2)\n",
    "\n",
    "conv_3 = tf.keras.layers.Conv2D(num_filters, 3, padding='same', name='conv_3')(act_2)\n",
    "add = tf.keras.layers.Add(name='add')([act_1, conv_3])\n",
    "\n",
    "act_3 = tf.keras.layers.Activation('relu', name='act_3')(add)\n",
    "pool_2 = tf.keras.layers.MaxPool2D(4, name='pool_2')(act_3)\n",
    "\n",
    "flat_2 = tf.keras.layers.Flatten(name='flat_2')(pool_2)\n",
    "\n",
    "digit = tf.keras.layers.Dense(10, activation='softmax', name='digit')(flat_2)\n",
    "color = tf.keras.layers.Dense(1, activation='sigmoid', name='color')(flat_1)\n",
    "\n",
    "model = tf.keras.models.Model(input_, [digit, color])\n",
    "\n",
    "model.compile(\n",
    "    loss={\n",
    "        'digit': 'sparse_categorical_crossentropy',\n",
    "        'color': 'binary_crossentropy'\n",
    "    },\n",
    "    optimizer='adam',\n",
    "    metrics=['accuracy']\n",
    ")\n",
    "\n",
    "model.summary()"
   ]
  },
  {
   "cell_type": "code",
   "execution_count": null,
   "metadata": {},
   "outputs": [],
   "source": [
    "tf.keras.utils.plot_model(model)"
   ]
  },
  {
   "cell_type": "markdown",
   "metadata": {},
   "source": [
    "## Task 5: Training the Model"
   ]
  },
  {
   "cell_type": "code",
   "execution_count": null,
   "metadata": {},
   "outputs": [],
   "source": [
    "class Logger(tf.keras.callbacks.Callback):\n",
    "    def on_epoch_end(self, epoch, logs=None):\n",
    "        digit_accuracy = logs.get('digit_accuracy')\n",
    "        color_accuracy = logs.get('color_accuracy')\n",
    "        val_digit_accuracy = logs.get('val_digit_accuracy')\n",
    "        val_color_accuracy = logs.get('val_color_accuracy')\n",
    "        print('='*30, epoch + 1, '='*30)\n",
    "        print(f'digit_accuracy: {digit_accuracy:.2f}, color_accuracy: {color_accuracy:.2f}')\n",
    "        print(f'val_digit_accuracy: {val_digit_accuracy:.2f}, val_color_accuracy: {val_color_accuracy:.2f}')"
   ]
  },
  {
   "cell_type": "code",
   "execution_count": null,
   "metadata": {},
   "outputs": [],
   "source": [
    "train_gen = generate_data(x_train, y_train)\n",
    "val_gen = generate_data(x_test, y_test)\n",
    "\n",
    "_ = model.fit(\n",
    "    train_gen,\n",
    "    validation_data=val_gen,\n",
    "    steps_per_epoch=200,\n",
    "    validation_steps=100,\n",
    "    epochs=10,\n",
    "    callbacks=[\n",
    "        tf.keras.callbacks.TensorBoard(log_dir='./logs'),\n",
    "        Logger()\n",
    "    ],\n",
    "    verbose=False\n",
    ")"
   ]
  },
  {
   "cell_type": "code",
   "execution_count": null,
   "metadata": {},
   "outputs": [],
   "source": [
    "%tensorboard --logdir logs"
   ]
  },
  {
   "cell_type": "markdown",
   "metadata": {},
   "source": [
    "## Task 6: Final Predictions"
   ]
  },
  {
   "cell_type": "code",
   "execution_count": null,
   "metadata": {},
   "outputs": [],
   "source": [
    "def test_model(show=True):\n",
    "    x, [y, c] = next(test)\n",
    "    \n",
    "    preds = model.predict(x)\n",
    "    pred_digit = np.argmax(preds[0])\n",
    "    pred_color = int(preds[1] > 0.5)\n",
    "    gt_digit = int(y[0])\n",
    "    gt_color = int(c[0])\n",
    "    \n",
    "    plt.imshow(x[0])\n",
    "    if show:\n",
    "        print(f'GT: {gt_digit}, {colors[gt_color]}')\n",
    "        print(f'Pr: {pred_digit}, {colors[pred_color]}')\n",
    "        plt.show()\n",
    "    else:\n",
    "        col = 'green' if gt_digit == pred_digit and gt_color == pred_color else 'red'\n",
    "        plt.ylabel(f'GT: {gt_digit}, {colors[gt_color]}', color=col)\n",
    "        plt.xlabel(f'Pr: {pred_digit}, {colors[pred_color]}', color=col)\n",
    "        plt.xticks([])\n",
    "        plt.yticks([])\n",
    "\n",
    "\n",
    "test = generate_data(x_test, y_test, batch_size=1)"
   ]
  },
  {
   "cell_type": "code",
   "execution_count": null,
   "metadata": {},
   "outputs": [],
   "source": [
    "test_model()"
   ]
  },
  {
   "cell_type": "code",
   "execution_count": null,
   "metadata": {},
   "outputs": [],
   "source": [
    "plt.figure(figsize=(12, 12))\n",
    "for i in range(0, 16):\n",
    "    plt.subplot(4, 4, i + 1)\n",
    "    test_model(False)\n",
    "plt.show()"
   ]
  },
  {
   "cell_type": "code",
   "execution_count": null,
   "metadata": {},
   "outputs": [],
   "source": []
  }
 ],
 "metadata": {
  "kernelspec": {
   "display_name": "Python 3",
   "language": "python",
   "name": "python3"
  },
  "language_info": {
   "codemirror_mode": {
    "name": "ipython",
    "version": 3
   },
   "file_extension": ".py",
   "mimetype": "text/x-python",
   "name": "python",
   "nbconvert_exporter": "python",
   "pygments_lexer": "ipython3",
   "version": "3.8.5"
  }
 },
 "nbformat": 4,
 "nbformat_minor": 4
}
